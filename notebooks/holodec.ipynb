{
 "cells": [
  {
   "cell_type": "markdown",
   "metadata": {},
   "source": [
    "# AI for Earth System Science Hackathon 2020\n",
    "# HOLODEC Machine Learning Challenge Problem\n",
    "Matt Hayman, Aaron Bansemer, David John Gagne, Gabrielle Gantos, Gunther Wallach\n",
    "\n",
    "## Introduction\n",
    "![holodec probe on aircraft](holodec_images/image2.png)\n",
    "\n",
    "The properties of the water and ice particles in clouds are critical to many aspects of weather and climate.  The size, shape, and concentration of ice particles control the radiative properties of cirrus clouds.  The spatial distribution of water droplets in warm clouds may influence the formation of drizzle and rain.  The interactions among droplets, ice particles, and aerosols impact precipitation, lightning, atmospheric chemistry, and more.  Measurements of natural cloud particles are often taken aboard research aircraft with instruments mounted on the wings.  One of the newer technologies used for these instruments is inline holographic imaging, which has the important advantage of being able to instantaneously record all of the particles inside a small volume of air.  Using this technology, the Holographic Detector for Clouds (HOLODEC) has been developed by the university community and NCAR to improve our cloud measurement capabilities.\n",
    "\n",
    "A hologram captures electro-magnatic field amplitude and phase (or wavefront) incident on a detector.  In contrast, standard imaging captures only the amplitude of the electric field.  Unlike a standard image, holograms can be computationally refocused on any object within the capture volume using standard wave propagation calculations. The figure below shows an example of an inline hologram (large image) with five out of focus particles.  The five smaller images show the reconstruction from each particle by computationally propagating the electro-magnetic field back to the depth position of each particle. \n",
    "\n",
    "![holodec example images](holodec_images/image5.png)\n",
    "\n",
    "HOLODEC is an airborne holographic cloud imager capable of capturing particle size distributions in a single shot, so a measured particle size distribution is localized to a specific part of the cloud (not accumulated over a long path length).  By capturing a hologram, each particle can be imaged irrespective of its location in the sample volume, and its size and position can be accurately captured.\n",
    "\n",
    "While holographic imaging provides unparalleled information about cloud particles, processing the raw holograms is also computationally expensive.  Lacking prior knowledge of the particle position in depth, a typical HOLODEC hologram is reconstructed at 1000 planes (or depths) using standard diffraction calculations.  At each plane, a particle’s image sharpness is evaluated and the particle size and position is determined only at a plane where it is in focus.  In addition to the computational cost, the processing requires human intervention to recognize when a “particle” is really just artifacts of interfering scattered fields.\n",
    "\n",
    "The objective of this project is to develop a machine learning solution to process HOLODEC data that is more computationally efficient than the first-principles based processor.  \n",
    "\n",
    "An important factor in processing hologram data is that the scattered field from a particle spreads out as it propagates.  The image below shows the scattered field from a 50 µm particle at distances in increments of 0.1 mm from the particle (0 to 0.7 mm).  As the scattered field expands, it’s the power is also distributed over a larger area.\n",
    "\n",
    "![holodec 3d](holodec_images/image1.png)\n",
    "\n",
    "For simplicity, this project deals with simulated holographic data where particle shapes are limited to spheres.  Two datasets are provided.  The first dataset contains only one particle per hologram.  If you are successful in processing the first dataset, or you wish to immediately focus on a more challenging case, you can work on the second dataset that contains three particles per hologram.\n"
   ]
  },
  {
   "cell_type": "markdown",
   "metadata": {},
   "source": [
    "## Software Requirements\n",
    "This notebook requires Python >= 3.7. The following libraries are required:\n",
    "* numpy\n",
    "* scipy\n",
    "* matplotlib\n",
    "* xarray\n",
    "* pandas\n",
    "* scikit-learn\n",
    "* tensorflow >= 2.1\n",
    "* netcdf4\n",
    "* h5netcdf\n",
    "* tqdm\n",
    "* s3fs"
   ]
  },
  {
   "cell_type": "code",
   "execution_count": null,
   "metadata": {},
   "outputs": [],
   "source": [
    "!pip install numpy scipy matplotlib xarray pandas scikit-learn tensorflow netcdf4 h5netcdf tqdm s3fs"
   ]
  },
  {
   "cell_type": "code",
   "execution_count": 8,
   "metadata": {},
   "outputs": [
    {
     "name": "stdout",
     "output_type": "stream",
     "text": [
      "Collecting package metadata (current_repodata.json): done\n",
      "Solving environment: done\n",
      "\n",
      "\n",
      "==> WARNING: A newer version of conda exists. <==\n",
      "  current version: 4.8.2\n",
      "  latest version: 4.8.3\n",
      "\n",
      "Please update conda by running\n",
      "\n",
      "    $ conda update -n base conda\n",
      "\n",
      "\n",
      "\n",
      "## Package Plan ##\n",
      "\n",
      "  environment location: /opt/conda\n",
      "\n",
      "  added / updated specs:\n",
      "    - zarr\n",
      "\n",
      "\n",
      "The following packages will be downloaded:\n",
      "\n",
      "    package                    |            build\n",
      "    ---------------------------|-----------------\n",
      "    asciitree-0.3.3            |             py_2           6 KB  conda-forge\n",
      "    fasteners-0.14.1           |             py_3          18 KB  conda-forge\n",
      "    monotonic-1.5              |             py_0           9 KB  conda-forge\n",
      "    numcodecs-0.6.4            |   py37he1b5a44_0         966 KB  conda-forge\n",
      "    zarr-2.4.0                 |             py_0          95 KB  conda-forge\n",
      "    ------------------------------------------------------------\n",
      "                                           Total:         1.1 MB\n",
      "\n",
      "The following NEW packages will be INSTALLED:\n",
      "\n",
      "  asciitree          conda-forge/noarch::asciitree-0.3.3-py_2\n",
      "  fasteners          conda-forge/noarch::fasteners-0.14.1-py_3\n",
      "  monotonic          conda-forge/noarch::monotonic-1.5-py_0\n",
      "  numcodecs          conda-forge/linux-64::numcodecs-0.6.4-py37he1b5a44_0\n",
      "  zarr               conda-forge/noarch::zarr-2.4.0-py_0\n",
      "\n",
      "\n",
      "\n",
      "Downloading and Extracting Packages\n",
      "monotonic-1.5        | 9 KB      | ##################################### | 100% \n",
      "fasteners-0.14.1     | 18 KB     | ##################################### | 100% \n",
      "zarr-2.4.0           | 95 KB     | ##################################### | 100% \n",
      "numcodecs-0.6.4      | 966 KB    | ##################################### | 100% \n",
      "asciitree-0.3.3      | 6 KB      | ##################################### | 100% \n",
      "Preparing transaction: done\n",
      "Verifying transaction: done\n",
      "Executing transaction: done\n"
     ]
    }
   ],
   "source": [
    "! conda install zarr --yes"
   ]
  },
  {
   "cell_type": "markdown",
   "metadata": {},
   "source": [
    "## Data\n",
    "The data summary should contain the following pieces of information:\n",
    "* Data generation procedure (satellite, model, etc.) \n",
    "* Link to website containing more information about dataset\n",
    "* Time span of the dataset\n",
    "* Geographic coverage of the dataset\n",
    "* Parameter space coverage (if synthetic)\n",
    "\n",
    "\n",
    "The datasets consist of synthetically-generated holograms of cloud droplets.  Each dataset is in netCDF format, and contains a series of hologram images as well as the properties of each particle in the image.  The netCDF variable names and properties are as follows:\n",
    "\n",
    "| Variable Name | Description | Dimensions | Units/Range|\n",
    "| ------------- | :----:|:----------- |:------|\n",
    "| image  | Stack of single-color images. Each image is 600x400 pixels, ranging from 0-255 in intensity. | nHolograms, 600, 400 | 0 to 255 (grayscale image) |\n",
    "| x  |  X-position of each particle in the dataset.  The origin is at the center of the hologram image. | nParticles (can vary) | -888 to 888 micrometers |\n",
    "| y  | Y-position of each particle in the dataset.  The origin is at the center of the hologram image. |  nParticles (can vary) | -592 to 592 micrometers |\n",
    "| z  | Z-position of each particle in the dataset.  The origin is at the focal plane of the instrument (all particles are unfocused). | nParticles (can vary) | 14000 to 158000 micrometers |\n",
    "| d  | Diameter of each simulated droplet | nParticles (can vary) | 20 to 70 micrometers |\n",
    "| hid | Hologram ID specifies which hologram this particle is contained in.  For example, if hid=1, the corresponding x, y, z, and d variables are found in the first hologram. | nParticles (can vary) | 1 to nHolograms |\n",
    "| Dx (global attribute) | Resolution of each pixel, == 2.96 micrometers.  Use if you wish to convert x/y position to pixel number |  |  |\n",
    "\n",
    "There are two datasets for this project, a single-particle dataset and a multi-particle dataset.  The single-particle dataset only contains one particle per hologram (nHolograms = nParticles). There are 50,000 holograms in the training dataset that correspond to 50,000 particles.\n",
    "\n",
    "The three-particle dataset contains three particles per hologram.  This dataset also contains 50,000 holograms but 150,000 particles.  Be sure to use the hid variable to figure out which hologram a particle is contained in.\n",
    "\n",
    "The goal of this project is to be able to find particles in the holograms and determine their x, y, z, and d values.\n",
    "\n",
    "<center><img src='holodec_images/image4.png'><center>\n"
   ]
  },
  {
   "cell_type": "markdown",
   "metadata": {},
   "source": [
    "### Potential Input Variables\n",
    "| Variable Name | Units | Description | Relevance |\n",
    "| ------------- | :----:|:----------- | :--------:|\n",
    "| hologram   |  arbitrary |  8 bit (0-255) amplitude captured by CCD  | standard input data for processing  |\n"
   ]
  },
  {
   "cell_type": "markdown",
   "metadata": {},
   "source": [
    "### Output Variables\n",
    "| Variable Name | Units | Description |\n",
    "| ------------- | :----:|:----------- |\n",
    "| x  |  µm     |  particle horizontal position |\n",
    "| y  |  µm     |  particle vertical position  |\n",
    "| z  | µm  | particle position in depth (along the direction of propagation) |\n",
    "| d  | µm  | particle diameter |\n",
    "| hid | arbitrary | hologram ID by particle|\n"
   ]
  },
  {
   "cell_type": "markdown",
   "metadata": {},
   "source": [
    "### Training Set\n",
    "\n",
    "The single-particle training dataset is in the netCDF format described above, with 15,000 holograms and 15,000 corresponding particles.\n",
    "\n",
    "The three-particle training dataset contains 15,000 holograms and 45,000 particles.\n"
   ]
  },
  {
   "cell_type": "markdown",
   "metadata": {},
   "source": [
    "### Validation Set\n",
    "The single-particle validation dataset is in the netCDF format described above, with 5,000 holograms and 5,000 corresponding particles.\n",
    "\n",
    "The three-particle validation dataset contains 5,000 holograms and 15,000 particles.\n"
   ]
  },
  {
   "cell_type": "markdown",
   "metadata": {},
   "source": [
    "### Test Set\n",
    "The single-particle test dataset is in the netCDF format described above, with 5,000 holograms and 5,000 corresponding particles.\n",
    "\n",
    "The three-particle test dataset contains 5,000 holograms and 15,000 particles.\n"
   ]
  },
  {
   "cell_type": "markdown",
   "metadata": {},
   "source": [
    "### Data Transforms\n",
    "\n",
    "The input images only need to be normalized between 0 and 1 by dividing by 255. The output *x*, *y*, *z*, and *d* should also be normalized using `sklearn.preprocessing` or a custom scalar. \n"
   ]
  },
  {
   "cell_type": "code",
   "execution_count": 1,
   "metadata": {},
   "outputs": [],
   "source": [
    "import argparse\n",
    "import os\n",
    "from os.path import join, exists\n",
    "import sys\n",
    "import s3fs\n",
    "import yaml\n",
    "import xarray as xr\n",
    "import numpy as np\n",
    "import pandas as pd\n",
    "import matplotlib.pyplot as plt\n",
    "from datetime import datetime\n",
    "\n",
    "from sklearn.preprocessing import StandardScaler, MinMaxScaler, MaxAbsScaler, RobustScaler\n",
    "from sklearn.metrics import mean_absolute_error\n",
    "\n",
    "from tensorflow.keras.layers import Input, Conv2D, Dense, Flatten, MaxPool2D\n",
    "from tensorflow.keras.models import Model, save_model\n",
    "from tensorflow.keras.optimizers import Adam, SGD\n",
    "%matplotlib inline"
   ]
  },
  {
   "cell_type": "code",
   "execution_count": 7,
   "metadata": {},
   "outputs": [],
   "source": [
    "# define some datset helper functions\n",
    "\n",
    "num_particles_dict = {\n",
    "    1 : '1particle',\n",
    "    3 : '3particle'}\n",
    "\n",
    "split_dict = {\n",
    "    'train' : 'training',\n",
    "    'test'   : 'test',\n",
    "    'valid': 'validation'}\n",
    "\n",
    "def dataset_name(num_particles, split, filetype=\"zarr\"):\n",
    "    \"\"\"Return the dataset filename given user inputs\"\"\"\n",
    "    \n",
    "    valid = [1,3,'multi']\n",
    "    if num_particles not in valid:\n",
    "        raise ValueError(\"results: num_particles must be one of %r.\" % valid)\n",
    "    num_particles = num_particles_dict[num_particles]\n",
    "    \n",
    "    valid = ['train','test','valid']\n",
    "    if split not in valid:\n",
    "        raise ValueError(\"results: split must be one of %r.\" % valid)\n",
    "    split = split_dict[split]\n",
    "    \n",
    "    return f'synthetic_holograms_{num_particles}_{split}_small.{filetype}'\n",
    "\n",
    "def open_zarr(data_path, num_particles, split):\n",
    "    data_path = os.path.join(data_path, dataset_name(num_particles, split))\n",
    "    fs = s3fs.S3FileSystem(anon=True, default_fill_cache=False)\n",
    "    store = s3fs.S3Map(root=data_path, s3=fs, check=False)\n",
    "    return xr.open_zarr(store=store)\n",
    "\n",
    "def scale_images(images):\n",
    "    \"\"\"Return images with pixel values between 0 and 1\"\"\"\n",
    "    return images.astype(np.float32) / 255.\n",
    "\n",
    "def flatten_dataset(df):\n",
    "    \"\"\"returns dataset with one row per hologram and all paricles flattened into columns\"\"\"\n",
    "    columns = [\"x1\",\"y1\",\"z1\",\"d1\",\"x2\",\"y2\",\"z2\",\"d2\",\"x3\",\"y3\",\"z3\",\"d3\"]\n",
    "    data = []\n",
    "    for hid in df['hid'].unique():\n",
    "        vect = df.loc[df['hid'] == hid].drop(['hid'], axis=1).values\n",
    "        data.append(vect.flatten())\n",
    "    data = np.vstack(data)\n",
    "    df = pd.DataFrame(data=data, columns=columns)\n",
    "    return df\n",
    "\n",
    "def load_scaled_datasets(data_path, num_particles, output_cols):\n",
    "    \"\"\"Given the dataset particle numbers, returns scaled training and validation dataframes.\"\"\"\n",
    "    \n",
    "    beginning = datetime.now()\n",
    "    print(f\"BEGINNING: {beginning}\")\n",
    "\n",
    "    print(\"Slicing data into inputs/outputs\")\n",
    "    slice_time = datetime.now()\n",
    "    train_ds = open_zarr(data_path, num_particles, 'train')\n",
    "    val_ds = open_zarr(data_path, num_particles, 'valid')\n",
    "    train_inputs = train_ds[\"image\"].values\n",
    "    train_outputs = train_ds[output_cols].to_dataframe()\n",
    "    valid_inputs = val_ds[\"image\"].values\n",
    "    valid_outputs = val_ds[output_cols].to_dataframe()\n",
    "    print(f\"\\t- time to slice datasets: {datetime.now() - slice_time}\")\n",
    "    \n",
    "    print(\"\\tScaling input data\")\n",
    "    scale_train_time = datetime.now()\n",
    "    scaled_train_inputs = scale_images(train_inputs)\n",
    "    print(f\"\\t\\tscaled_train_inputs.shape: {train_inputs.shape}\")\n",
    "    print(f\"\\t\\t- time to scale train input data: {datetime.now() - scale_train_time}\")\n",
    "    scale_valid_time = datetime.now()\n",
    "    scaled_valid_inputs = scale_images(valid_inputs)\n",
    "    print(f\"\\t\\tscaled_valid_inputs.shape: {valid_inputs.shape}\")\n",
    "    print(f\"\\t\\t- time to scale valid input data: {datetime.now() - scale_valid_time}\")\n",
    "    \n",
    "    end = datetime.now()\n",
    "    print(f\"END: {end}\\nTIME ELAPSED: {end - beginning}\")\n",
    "    train_ds.close()\n",
    "    del train_ds\n",
    "    val_ds.close()\n",
    "    del val_ds\n",
    "    return scaled_train_inputs, scaled_valid_inputs, train_outputs, valid_outputs\n"
   ]
  },
  {
   "cell_type": "markdown",
   "metadata": {},
   "source": [
    "### Baseline Machine Learning Model\n",
    "A baseline model for solving this problem uses a ConvNET architecture implemented in Keras.  The first three convolution layers consist of 5 x 5 pixel kernels with rectified linear unit (relu) activation followed by a 4 x 4 pixel max pool layer.  The first convolution layer has 8 channels, the second contains 16 channels, and the third contains 32 channels.  The output of the third convolution layer is flattened and fed into a dense layer with 64 neurons and relu activation which then feeds into a second dense layer with 32 neurons and relu activation.  Finally the output layer consists of 4 neurons (for x, y, z and d outputs) and linear activation.  The model is trained using a mean absolute error (MAE) loss function.\n",
    "\n",
    "Mean absolute error in predictions for single-particle dataset:\n",
    "\n",
    "| Variable Name | Error |\n",
    "| ------------- |:----------- |\n",
    "| x  |  20 µm     |\n",
    "| y  |  12 µm     |\n",
    "| z  |  2519 µm     |\n",
    "| d  |  1 µm     |\n",
    "\n",
    "Training time: 20 epochs in ~12 minutes\n",
    "\n",
    "Mean absolute error in predictions for three-particle dataset:\n",
    "\n",
    "| Variable Name | Error |\n",
    "| ------------- |:----------- |\n",
    "| x1  |  313 µm     |\n",
    "| y1  |  217 µm     |\n",
    "| z1  |  28872 µm     |\n",
    "| d1  |  10 µm     |\n",
    "| x2  |  326 µm     |\n",
    "| y2  |  213 µm     |\n",
    "| z2  |  28850 µm     |\n",
    "| d2  |  10 µm     |\n",
    "| x3  |  321 µm     |\n",
    "| y3  |  212 µm     |\n",
    "| z3  |  28580 µm     |\n",
    "| d3  |  10 µm     |\n",
    "\n",
    "Training time: 20 epochs in ~12 minutes\n"
   ]
  },
  {
   "cell_type": "code",
   "execution_count": 3,
   "metadata": {},
   "outputs": [],
   "source": [
    "class Conv2DNeuralNetwork(object):\n",
    "    \"\"\"\n",
    "    A Conv2D Neural Network Model that can support arbitrary numbers of layers.\n",
    "\n",
    "    Attributes:\n",
    "        filters: List of number of filters in each Conv2D layer\n",
    "        kernel_sizes: List of kernel sizes in each Conv2D layer\n",
    "        conv2d_activation: Type of activation function for conv2d layers\n",
    "        pool_sizes: List of Max Pool sizes\n",
    "        dense_sizes: Sizes of dense layers\n",
    "        dense_activation: Type of activation function for dense layers\n",
    "        learning_rate: Optimizer learning rate\n",
    "        optimizer: Name of optimizer or optimizer object.\n",
    "        loss: Name of loss function or loss object\n",
    "        batch_size: Number of examples per batch\n",
    "        epochs: Number of epochs to train\n",
    "        verbose: Level of detail to provide during training\n",
    "        model: Keras Model object\n",
    "    \"\"\"\n",
    "    def __init__(self, filters=(8,), kernel_sizes=(5,), conv2d_activation=\"relu\",\n",
    "                 pool_sizes=(4,), dense_sizes=(64,), dense_activation=\"relu\",\n",
    "                 lr=0.001, optimizer=\"adam\",  adam_beta_1=0.9, adam_beta_2=0.999,\n",
    "                 sgd_momentum=0.9, decay=0, loss=\"mae\", batch_size=32, epochs=2, verbose=0):\n",
    "        self.filters = filters\n",
    "        self.kernel_sizes = [tuple((v,v)) for v in kernel_sizes]\n",
    "        self.conv2d_activation = conv2d_activation\n",
    "        self.pool_sizes = [tuple((v,v)) for v in pool_sizes]\n",
    "        self.dense_sizes = dense_sizes\n",
    "        self.dense_activation = dense_activation\n",
    "        self.lr = lr\n",
    "        self.optimizer = optimizer\n",
    "        self.optimizer_obj = None\n",
    "        self.adam_beta_1 = adam_beta_1\n",
    "        self.adam_beta_2 = adam_beta_2\n",
    "        self.sgd_momentum = sgd_momentum\n",
    "        self.decay = decay\n",
    "        self.loss = loss\n",
    "        self.batch_size = batch_size\n",
    "        self.epochs = epochs\n",
    "        self.verbose = verbose\n",
    "        self.model = None\n",
    "\n",
    "    def build_neural_network(self, input_shape, output_shape):\n",
    "        \"\"\"Create Keras neural network model and compile it.\"\"\"\n",
    "        conv_input = Input(shape=(input_shape), name=\"input\")\n",
    "        nn_model = conv_input\n",
    "        for h in range(len(self.filters)):\n",
    "            nn_model = Conv2D(self.filters[h], self.kernel_sizes[h], padding=\"same\",\n",
    "                              activation=self.conv2d_activation, name=f\"conv2D_{h:02d}\")(nn_model)\n",
    "            nn_model = MaxPool2D(self.pool_sizes[h], name=f\"maxpool2D_{h:02d}\")(nn_model)\n",
    "        nn_model = Flatten()(nn_model)\n",
    "        for h in range(len(self.dense_sizes)):\n",
    "            nn_model = Dense(self.dense_sizes[h], activation=self.dense_activation, name=f\"dense_{h:02d}\")(nn_model)\n",
    "        nn_model = Dense(output_shape, name=f\"dense_output\")(nn_model)\n",
    "        self.model = Model(conv_input, nn_model)\n",
    "        if self.optimizer == \"adam\":\n",
    "            self.optimizer_obj = Adam(lr=self.lr, beta_1=self.adam_beta_1, beta_2=self.adam_beta_2, decay=self.decay)\n",
    "        elif self.optimizer == \"sgd\":\n",
    "            self.optimizer_obj = SGD(lr=self.lr, momentum=self.sgd_momentum, decay=self.decay)\n",
    "        self.model.compile(optimizer=self.optimizer, loss=self.loss)\n",
    "        self.model.summary()\n",
    "\n",
    "    def fit(self, x, y):\n",
    "        if len(x.shape[1:])==2:\n",
    "            x = np.expand_dims(x, axis=-1)\n",
    "        if len(y.shape) == 1:\n",
    "            output_shape = 1\n",
    "        else:\n",
    "            output_shape = y.shape[1]\n",
    "        input_shape = x.shape[1:]\n",
    "        self.build_neural_network(input_shape, output_shape)\n",
    "        self.model.fit(x, y, batch_size=self.batch_size, epochs=self.epochs, verbose=self.verbose)\n",
    "        return\n",
    "\n",
    "    def predict(self, x):\n",
    "        y_out = self.model.predict(np.expand_dims(x.values, axis=-1), batch_size=self.batch_size)\n",
    "        return y_out\n",
    "\n",
    "    def predict_proba(self, x):\n",
    "        y_prob = self.model.predict(x, batch_size=self.batch_size)\n",
    "        return y_prob\n"
   ]
  },
  {
   "cell_type": "code",
   "execution_count": 4,
   "metadata": {},
   "outputs": [],
   "source": [
    "# you can explore with whichever sklearn.processing or custom scalar\n",
    "# you can also define a different sklearn or custom error functions\n",
    "scalers = {\"MinMaxScaler\": MinMaxScaler,\n",
    "           \"MaxAbsScaler\": MaxAbsScaler,\n",
    "           \"StandardScaler\": StandardScaler,\n",
    "           \"RobustScaler\": RobustScaler}\n",
    "metrics = {\"mae\": mean_absolute_error}"
   ]
  },
  {
   "cell_type": "code",
   "execution_count": 5,
   "metadata": {},
   "outputs": [],
   "source": [
    "# yaml file equivalent variable definitions\n",
    "\n",
    "data_path = \"ncar-aiml-data-commons/holodec/\"\n",
    "out_path = \"./holodec_models/3particle_base/\"\n",
    "model_name = \"cnn\"\n",
    "num_particles = 3\n",
    "random_seed = 328942\n",
    "output_cols = [\"hid\", \"x\", \"y\", \"z\", \"d\"]\n",
    "metric = metrics[\"mae\"]\n",
    "\n"
   ]
  },
  {
   "cell_type": "code",
   "execution_count": 6,
   "metadata": {},
   "outputs": [
    {
     "name": "stdout",
     "output_type": "stream",
     "text": [
      "BEGINNING: 2020-06-19 19:53:26.923915\n",
      "Slicing data into inputs/outputs\n",
      "\t- time to slice datasets: 0:01:12.095856\n",
      "\tScaling input data\n",
      "\t\tscaled_train_inputs.shape: (15000, 600, 400)\n",
      "\t\t- time to scale train input data: 0:00:23.272127\n",
      "\t\tscaled_valid_inputs.shape: (5000, 600, 400)\n",
      "\t\t- time to scale valid input data: 0:00:14.089233\n",
      "END: 2020-06-19 19:55:16.381677\n",
      "TIME ELAPSED: 0:01:49.457762\n"
     ]
    }
   ],
   "source": [
    "# load and normalize data (this takes approximately 2 minutes)\n",
    "scaled_train_inputs, \\\n",
    "scaled_valid_inputs, \\\n",
    "train_outputs, \\\n",
    "valid_outputs, = load_scaled_datasets(data_path,\n",
    "                                    num_particles,\n",
    "                                    output_cols)"
   ]
  },
  {
   "cell_type": "code",
   "execution_count": 7,
   "metadata": {},
   "outputs": [
    {
     "data": {
      "text/html": [
       "<div>\n",
       "<style scoped>\n",
       "    .dataframe tbody tr th:only-of-type {\n",
       "        vertical-align: middle;\n",
       "    }\n",
       "\n",
       "    .dataframe tbody tr th {\n",
       "        vertical-align: top;\n",
       "    }\n",
       "\n",
       "    .dataframe thead th {\n",
       "        text-align: right;\n",
       "    }\n",
       "</style>\n",
       "<table border=\"1\" class=\"dataframe\">\n",
       "  <thead>\n",
       "    <tr style=\"text-align: right;\">\n",
       "      <th></th>\n",
       "      <th>hid</th>\n",
       "      <th>x</th>\n",
       "      <th>y</th>\n",
       "      <th>z</th>\n",
       "      <th>d</th>\n",
       "    </tr>\n",
       "    <tr>\n",
       "      <th>particle</th>\n",
       "      <th></th>\n",
       "      <th></th>\n",
       "      <th></th>\n",
       "      <th></th>\n",
       "      <th></th>\n",
       "    </tr>\n",
       "  </thead>\n",
       "  <tbody>\n",
       "    <tr>\n",
       "      <th>0</th>\n",
       "      <td>1.0</td>\n",
       "      <td>-185.490540</td>\n",
       "      <td>493.475464</td>\n",
       "      <td>109658.296875</td>\n",
       "      <td>37.176006</td>\n",
       "    </tr>\n",
       "    <tr>\n",
       "      <th>1</th>\n",
       "      <td>1.0</td>\n",
       "      <td>-369.521027</td>\n",
       "      <td>-256.679077</td>\n",
       "      <td>17397.814453</td>\n",
       "      <td>50.392483</td>\n",
       "    </tr>\n",
       "    <tr>\n",
       "      <th>2</th>\n",
       "      <td>1.0</td>\n",
       "      <td>590.504333</td>\n",
       "      <td>163.985611</td>\n",
       "      <td>17762.396484</td>\n",
       "      <td>21.142471</td>\n",
       "    </tr>\n",
       "    <tr>\n",
       "      <th>3</th>\n",
       "      <td>2.0</td>\n",
       "      <td>625.500732</td>\n",
       "      <td>163.250259</td>\n",
       "      <td>149878.234375</td>\n",
       "      <td>33.713619</td>\n",
       "    </tr>\n",
       "    <tr>\n",
       "      <th>4</th>\n",
       "      <td>2.0</td>\n",
       "      <td>-740.628662</td>\n",
       "      <td>-64.830124</td>\n",
       "      <td>35112.570312</td>\n",
       "      <td>33.935707</td>\n",
       "    </tr>\n",
       "    <tr>\n",
       "      <th>...</th>\n",
       "      <td>...</td>\n",
       "      <td>...</td>\n",
       "      <td>...</td>\n",
       "      <td>...</td>\n",
       "      <td>...</td>\n",
       "    </tr>\n",
       "    <tr>\n",
       "      <th>44995</th>\n",
       "      <td>14999.0</td>\n",
       "      <td>-653.549561</td>\n",
       "      <td>-127.128754</td>\n",
       "      <td>94055.562500</td>\n",
       "      <td>27.151337</td>\n",
       "    </tr>\n",
       "    <tr>\n",
       "      <th>44996</th>\n",
       "      <td>14999.0</td>\n",
       "      <td>0.849167</td>\n",
       "      <td>479.239960</td>\n",
       "      <td>77399.578125</td>\n",
       "      <td>22.044182</td>\n",
       "    </tr>\n",
       "    <tr>\n",
       "      <th>44997</th>\n",
       "      <td>15000.0</td>\n",
       "      <td>765.401855</td>\n",
       "      <td>-450.660614</td>\n",
       "      <td>75302.359375</td>\n",
       "      <td>54.581043</td>\n",
       "    </tr>\n",
       "    <tr>\n",
       "      <th>44998</th>\n",
       "      <td>15000.0</td>\n",
       "      <td>520.013306</td>\n",
       "      <td>-380.590668</td>\n",
       "      <td>21952.001953</td>\n",
       "      <td>65.837128</td>\n",
       "    </tr>\n",
       "    <tr>\n",
       "      <th>44999</th>\n",
       "      <td>15000.0</td>\n",
       "      <td>-41.818134</td>\n",
       "      <td>28.177366</td>\n",
       "      <td>29068.767578</td>\n",
       "      <td>22.812561</td>\n",
       "    </tr>\n",
       "  </tbody>\n",
       "</table>\n",
       "<p>45000 rows × 5 columns</p>\n",
       "</div>"
      ],
      "text/plain": [
       "              hid           x           y              z          d\n",
       "particle                                                           \n",
       "0             1.0 -185.490540  493.475464  109658.296875  37.176006\n",
       "1             1.0 -369.521027 -256.679077   17397.814453  50.392483\n",
       "2             1.0  590.504333  163.985611   17762.396484  21.142471\n",
       "3             2.0  625.500732  163.250259  149878.234375  33.713619\n",
       "4             2.0 -740.628662  -64.830124   35112.570312  33.935707\n",
       "...           ...         ...         ...            ...        ...\n",
       "44995     14999.0 -653.549561 -127.128754   94055.562500  27.151337\n",
       "44996     14999.0    0.849167  479.239960   77399.578125  22.044182\n",
       "44997     15000.0  765.401855 -450.660614   75302.359375  54.581043\n",
       "44998     15000.0  520.013306 -380.590668   21952.001953  65.837128\n",
       "44999     15000.0  -41.818134   28.177366   29068.767578  22.812561\n",
       "\n",
       "[45000 rows x 5 columns]"
      ]
     },
     "execution_count": 7,
     "metadata": {},
     "output_type": "execute_result"
    }
   ],
   "source": [
    "train_outputs"
   ]
  },
  {
   "cell_type": "code",
   "execution_count": 8,
   "metadata": {},
   "outputs": [
    {
     "data": {
      "text/plain": [
       "<matplotlib.collections.QuadMesh at 0x7fb15da0da90>"
      ]
     },
     "execution_count": 8,
     "metadata": {},
     "output_type": "execute_result"
    },
    {
     "data": {
      "image/png": "[encoded data removed]",
      "text/plain": [
       "<Figure size 432x288 with 1 Axes>"
      ]
     },
     "metadata": {
      "needs_background": "light"
     },
     "output_type": "display_data"
    }
   ],
   "source": [
    "plt.pcolormesh(scaled_train_inputs[0])"
   ]
  },
  {
   "cell_type": "code",
   "execution_count": 10,
   "metadata": {},
   "outputs": [
    {
     "data": {
      "text/plain": [
       "14002.075"
      ]
     },
     "execution_count": 10,
     "metadata": {},
     "output_type": "execute_result"
    }
   ],
   "source": [
    "train_outputs[\"z\"].min()"
   ]
  },
  {
   "cell_type": "code",
   "execution_count": 11,
   "metadata": {},
   "outputs": [],
   "source": [
    "num_z_bins = 20\n",
    "z_bins = np.linspace(train_outputs[\"z\"].min() - 1, train_outputs[\"z\"].max() + 1, num_z_bins)\n",
    "train_z_mass = np.zeros((scaled_train_inputs.shape[0], num_z_bins), dtype=np.float32)\n",
    "for i in range(train_outputs.shape[0]):\n",
    "    z_pos = np.searchsorted(z_bins, train_outputs.loc[i, \"z\"])\n",
    "    mass = 4 / 3 * np.pi * train_outputs.loc[i, \"d\"]\n",
    "    train_z_mass[int(train_outputs.loc[i, \"hid\"]) - 1, z_pos] += mass\n",
    "    "
   ]
  },
  {
   "cell_type": "code",
   "execution_count": 13,
   "metadata": {},
   "outputs": [],
   "source": [
    "train_z_mass /= train_z_mass.sum(axis=1).reshape(-1, 1)"
   ]
  },
  {
   "cell_type": "code",
   "execution_count": 22,
   "metadata": {},
   "outputs": [
    {
     "data": {
      "text/plain": [
       "<BarContainer object of 20 artists>"
      ]
     },
     "execution_count": 22,
     "metadata": {},
     "output_type": "execute_result"
    },
    {
     "data": {
      "image/png": "[encoded data removed]",
      "text/plain": [
       "<Figure size 432x288 with 1 Axes>"
      ]
     },
     "metadata": {
      "needs_background": "light"
     },
     "output_type": "display_data"
    }
   ],
   "source": [
    "plt.bar(z_bins, train_z_mass[3], width=z_bins[1]-z_bins[0])"
   ]
  },
  {
   "cell_type": "code",
   "execution_count": null,
   "metadata": {},
   "outputs": [],
   "source": [
    "# build and train the model\n",
    "# conv2d_network definitions\n",
    "filters = [8, 16, 32]\n",
    "kernel_sizes = [5, 5, 5]\n",
    "conv2d_activation = \"relu\"\n",
    "pool_sizes = [4, 4, 4]\n",
    "dense_sizes = [64, 32]\n",
    "dense_activation = \"relu\"\n",
    "lr = 0.001\n",
    "optimizer = \"adam\"\n",
    "loss = \"categorical_crossentropy\"\n",
    "batch_size = 32\n",
    "epochs = 2\n",
    "verbose = 1\n",
    "\n",
    "if not exists(out_path):\n",
    "    os.makedirs(out_path)\n",
    "\n",
    "model_start = datetime.now()\n",
    "mod = Conv2DNeuralNetwork(filters=filters, kernel_sizes=kernel_sizes, conv2d_activation=conv2d_activation,\n",
    "                 pool_sizes=pool_sizes, dense_sizes=dense_sizes, dense_activation=dense_activation,\n",
    "                 lr=lr, optimizer=optimizer, loss=\"categorical_crossentropy\", batch_size=batch_size, epochs=epochs, verbose=verbose)\n",
    "mod.fit(scaled_train_inputs, train_z_mass)\n",
    "print(f\"Running model took {datetime.now() - model_start} time\")"
   ]
  },
  {
   "cell_type": "code",
   "execution_count": null,
   "metadata": {},
   "outputs": [],
   "source": [
    "# save the model\n",
    "print(\"Saving the model\")\n",
    "mod.model.save(join(out_path, model_name +\".h5\"))"
   ]
  },
  {
   "cell_type": "code",
   "execution_count": null,
   "metadata": {},
   "outputs": [],
   "source": [
    "# predict outputs\n",
    "scaled_pred_valid_outputs = pd.DataFrame(mod.predict(scaled_valid_inputs),\n",
    "                                         index=scaled_valid_outputs.index,\n",
    "                                         columns=scaled_valid_outputs.columns)\n",
    "scaled_pred_train_outputs = pd.DataFrame(mod.predict(scaled_train_inputs),\n",
    "                                         index=scaled_train_outputs.index,\n",
    "                                         columns=scaled_train_outputs.columns)\n",
    "\n",
    "# apply inverse scaler to outputs\n",
    "pred_train_outputs = input_scaler.inverse_transform(scaled_pred_train_outputs)        \n",
    "pred_valid_outputs = input_scaler.inverse_transform(scaled_pred_valid_outputs)"
   ]
  },
  {
   "cell_type": "code",
   "execution_count": null,
   "metadata": {},
   "outputs": [],
   "source": [
    "# save results\n",
    "pd.DataFrame(data=pred_valid_outputs).to_csv(join(out_path, \"pred_valid_outputs.csv\"), index=False)\n",
    "pd.DataFrame(data=pred_train_outputs).to_csv(join(out_path, \"pred_train_outputs.csv\"), index=False)\n",
    "pd.DataFrame(data=scaled_pred_train_outputs).to_csv(join(out_path, \"scaled_pred_train_outputs.csv\"), index=False)\n",
    "pd.DataFrame(data=scaled_pred_valid_outputs).to_csv(join(out_path, \"scaled_pred_valid_outputs.csv\"), index=False)\n"
   ]
  },
  {
   "cell_type": "markdown",
   "metadata": {},
   "source": [
    "## Metrics\n",
    "An ideal solution to HOLODEC processing would leverage all the advantages of the instrument (unparalleled particle position and size accuracy) but reduce the drawbacks (processing time).  For this reason, the major components of the model assessment should include:\n",
    "* MAE, and maximum error of each output (x, y, z, d)\n",
    "* Processing time per hologram\n"
   ]
  },
  {
   "cell_type": "code",
   "execution_count": null,
   "metadata": {},
   "outputs": [],
   "source": [
    "# calculate error\n",
    "train_outputs = open_dataset(data_path, num_particles, \"train\")[output_cols].to_dataframe()\n",
    "valid_outputs = open_dataset(data_path, num_particles, \"valid\")[output_cols].to_dataframe()\n",
    "if len(output_cols) == 5:\n",
    "    train_outputs = flatten_dataset(train_outputs)\n",
    "    valid_outputs = flatten_dataset(valid_outputs)\n",
    "error = {\"train\": {}, \"valid\": {}}\n",
    "for i, var in enumerate(train_outputs.columns):\n",
    "    err = mean_absolute_error(train_outputs[var], pred_train_outputs[:,i])\n",
    "    error[\"train\"][var] = err\n",
    "    print (f\"Training error in {var}: \", err)\n",
    "for i, var in enumerate(valid_outputs.columns):\n",
    "    err = mean_absolute_error(valid_outputs[var], pred_valid_outputs[:,i])\n",
    "    error[\"valid\"][var] = err\n",
    "    print (f\"Validation error in {var}: \", err)    \n",
    "\n",
    "pd.DataFrame.from_dict(error, orient='index').to_csv(join(out_path, \"error.csv\"),index=False)\n"
   ]
  },
  {
   "cell_type": "code",
   "execution_count": null,
   "metadata": {},
   "outputs": [],
   "source": []
  }
 ],
 "metadata": {
  "kernelspec": {
   "display_name": "Python 3",
   "language": "python",
   "name": "python3"
  },
  "language_info": {
   "codemirror_mode": {
    "name": "ipython",
    "version": 3
   },
   "file_extension": ".py",
   "mimetype": "text/x-python",
   "name": "python",
   "nbconvert_exporter": "python",
   "pygments_lexer": "ipython3",
   "version": "3.7.6"
  }
 },
 "nbformat": 4,
 "nbformat_minor": 4
}
