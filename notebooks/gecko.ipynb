{
 "cells": [
  {
   "cell_type": "markdown",
   "metadata": {},
   "source": [
    "# Gecko"
   ]
  },
  {
   "cell_type": "code",
   "execution_count": 12,
   "metadata": {},
   "outputs": [],
   "source": [
    "import s3fs\n",
    "import pandas as pd\n",
    "import pyarrow\n",
    "import re\n",
    "import random\n",
    "import pandas as pd\n",
    "import numpy as np\n",
    "import matplotlib.pyplot as plt\n",
    "from glob import glob\n",
    "from os.path import join, exists\n",
    "from matplotlib.colors import LogNorm\n",
    "import tensorflow as tf\n",
    "from sklearn.metrics import mean_squared_error\n",
    "from sklearn.preprocessing import StandardScaler, MinMaxScaler\n",
    "from tensorflow.keras.layers import Dense, Input\n",
    "from tensorflow.keras.models import Model\n",
    "from sklearn.model_selection import GroupKFold\n",
    "from tensorflow.keras.optimizers import Adam\n",
    "%matplotlib inline\n",
    "\n",
    "seed = 8889\n",
    "np.random.seed(seed)\n",
    "random.seed(seed)\n",
    "tf.random.set_seed(seed)"
   ]
  },
  {
   "cell_type": "code",
   "execution_count": 2,
   "metadata": {},
   "outputs": [],
   "source": [
    "# -----------------------------------------------\n",
    "\"\"\" Data Processing \"\"\"\n",
    "\n",
    "def fetch_data(f):\n",
    "    \"\"\" Load data directly from Amazon S3 storage \"\"\"\n",
    "    \n",
    "    obj = fs.open(f)\n",
    "    df = pd.read_parquet(obj)\n",
    "    return df\n",
    "\n",
    "def prepare_data(data, input_columns, output_columns):\n",
    "    \"\"\" Splits data to input/output with corresponding lag \"\"\"\n",
    "    \n",
    "    data['id'] = data['id'].apply(lambda x: int(x[3:])) # change expnumber to int for sorting\n",
    "    data.index.name = 'indx'\n",
    "    data = data.sort_values(['id','indx'])\n",
    "    x_data = data[input_columns].iloc[:-1, :]\n",
    "    y_data = data[output_columns].iloc[1:, :]\n",
    "    \n",
    "    return x_data, y_data\n",
    "\n",
    "def get_starting_conds(data, input_vars, exp, starting_ts=0):\n",
    "    \"\"\" Take data and expiriment number to gather initial starting condition for box emulator\"\"\"\n",
    "    exp_data = data[data['id'] == exp]\n",
    "    \n",
    "    if exp_data.shape[0] == 0:\n",
    "        raise ValueError('That expiriment number does not exist in this dataset.')\n",
    "    \n",
    "    ts_data = exp_data.iloc[starting_ts:starting_ts+1, :]\n",
    "\n",
    "    return ts_data\n",
    "# -----------------------------------------------\n",
    "\"\"\" Evaluation \"\"\"\n",
    "\n",
    "def calc_pdf_hist(x, x_bins):\n",
    "    return np.histogram(x, x_bins, density=True)[0]\n",
    "\n",
    "def rmse(y_true, y_pred):\n",
    "    return np.sqrt(mean_squared_error(y_true, y_pred))\n",
    "\n",
    "def hellinger(x, pdf_p, pdf_q):\n",
    "    pdf_distances = (np.sqrt(pdf_p) - np.sqrt(pdf_q)) ** 2\n",
    "    return np.trapz(pdf_distances, x) / 2\n",
    "\n",
    "def hellinger_distance(y_true, y_pred, bins=50):\n",
    "    bin_points = np.linspace(np.minimum(y_true.min(), y_pred.min()),\n",
    "                       np.maximum(y_true.max(), y_pred.max()),\n",
    "                       bins)\n",
    "    bin_centers = 0.5 * (bin_points[:-1] + bin_points[1:])\n",
    "    y_true_pdf = calc_pdf_hist(y_true, bin_points)\n",
    "    y_pred_pdf = calc_pdf_hist(y_pred, bin_points)\n",
    "    return hellinger(bin_centers, y_true_pdf, y_pred_pdf)\n",
    "\n",
    "def r2_corr(y_true, y_pred):\n",
    "    return np.corrcoef(y_true, y_pred)[0, 1] ** 2\n",
    "\n",
    "def evaluate_box_mod(true_output, model_results):\n",
    "    \n",
    "    print('RMSE: Precursor: {:.3f}, Gas: {:.3f}, Aerosols: {:.3f}'.format(\n",
    "        rmse(true_output.iloc[:,0], model_results.iloc[:,0]),\n",
    "        rmse(true_output.iloc[:,1], model_results.iloc[:,1]),\n",
    "        rmse(true_output.iloc[:,2], model_results.iloc[:,2])))\n",
    "    print('R2: Precursor: {:.3f}, Gas: {:.3f}, Aerosols: {:.3f}'.format(\n",
    "        r2_corr(true_output.iloc[:,0], model_results.iloc[:,0]),\n",
    "        r2_corr(true_output.iloc[:,1], model_results.iloc[:,1]),\n",
    "        r2_corr(true_output.iloc[:,2], model_results.iloc[:,2])))\n",
    "    print('Hellenger Distance: Precursor: {:.3f}, Gas: {:.3f}, Aerosols: {:.3f}'.format(\n",
    "        hellinger_distance(true_output.iloc[:,0], model_results.iloc[:,0]),\n",
    "        hellinger_distance(true_output.iloc[:,1], model_results.iloc[:,1]),\n",
    "        hellinger_distance(true_output.iloc[:,2], model_results.iloc[:,2])))\n",
    "    \n",
    "    return\n",
    "# -----------------------------------------------\n",
    "\"\"\" Models \"\"\"\n",
    "def dense_neural_net(num_layers=2, num_neurons=100, activation=\"relu\", learning_rate=0.0001,\n",
    "                     num_input_columns=9, num_output_columns=3):\n",
    "    \"\"\" Build and return dense neural network with specified hyperparameters\"\"\"\n",
    "    \n",
    "    input_layer = Input(num_input_columns)\n",
    "    n_net = input_layer\n",
    "    for l in range(num_layers):\n",
    "        n_net= Dense(num_neurons, activation=activation)(n_net)\n",
    "    out = Dense(num_output_columns)(n_net)\n",
    "    mod = Model(input_layer, out)\n",
    "    mod.compile(Adam(learning_rate=learning_rate), \"mse\")\n",
    "    \n",
    "    return mod\n",
    "\n",
    "def box_emulator(neural_network, starting_conds, input_scaler, output_scaler, num_timesteps=1440):\n",
    "    \"\"\" Forward box emulator\n",
    "    Args:\n",
    "        neural_netwrok: NN model object that predits output at t+1\n",
    "        starting_conds: Initial input conditions used for first prediction\n",
    "        input_scaler: Input scaler object\n",
    "        onput_scaler: Onput scaler object\n",
    "        num_timesteps: how many timesteps forward to run emulator\n",
    "    Returns:\n",
    "        results: Pandas DataFrame of box emulator output\n",
    "    \"\"\"\n",
    "    mod = neural_network\n",
    "    scaled_input = input_scaler.transform(starting_conds.iloc[:,1:-1])\n",
    "    static_input = scaled_input[:,-6:]\n",
    "\n",
    "    for i in range(num_timesteps):\n",
    "\n",
    "        if i == 0:\n",
    "\n",
    "            pred = mod.predict(scaled_input)\n",
    "            new_input = np.concatenate([pred,static_input], axis=1)\n",
    "            pred_array = pred\n",
    "\n",
    "        else:\n",
    "\n",
    "            pred = mod.predict(new_input)\n",
    "            new_input = np.concatenate([pred,static_input], axis=1)\n",
    "            pred_array = np.concatenate([pred_array, pred], axis=0)\n",
    "            \n",
    "    results = pd.DataFrame(output_scaler.inverse_transform(pred_array))\n",
    "    results['id'] = starting_conds.iloc[0,-1]\n",
    "    results.columns = starting_conds.columns[[1,2,3,-1]]\n",
    "    return results\n",
    "\n",
    "def run_emulator_ensemble(input_data, mod, num_expiriments, input_vars, input_scaler, \n",
    "                          output_scaler, run_length=1440):\n",
    "    \"\"\" Run an ensemble of emulators on n amount of random expiriments\n",
    "    Args:\n",
    "        input_data: unscaled dataframe collection of expiriment data\n",
    "        mod: NN model object that predits output at t+1\n",
    "        num_expiriments: How many expiriments to run\n",
    "        input_vars: Input variables for model\n",
    "        output_vars: Output variables for model\n",
    "        run_length: number of timesteps to run each emulator forward\n",
    "    Returns:\n",
    "        pred_df: Aggregated Pandas DataFrame of predictions for each expiriment\n",
    "        true_df: Corresponding Dataframe with raw expiriment data\n",
    "    \"\"\"\n",
    "    output_cols = input_data.columns[[1,2,3, -1]]\n",
    "    exps = sorted(random.sample(list(input_data['id'].unique()), num_expiriments))\n",
    "    pred_df  = pd.DataFrame(columns = output_cols)\n",
    "    true_df = input_data.loc[input_data['id'].isin(exps)][output_cols].reset_index(drop=True)\n",
    "    \n",
    "    for i in range(num_expiriments):\n",
    "        \n",
    "        init_conds = get_starting_conds(input_data, input_vars, exps[i])\n",
    "        preds = box_emulator(mod, init_conds, input_scaler, output_scaler, run_length)\n",
    "        preds['id'] = exps[i]\n",
    "        preds.columns = pred_df.columns\n",
    "        pred_df = pred_df.append(preds, ignore_index=True)\n",
    "\n",
    "    return pred_df, true_df"
   ]
  },
  {
   "cell_type": "code",
   "execution_count": 3,
   "metadata": {},
   "outputs": [],
   "source": [
    "fs = s3fs.S3FileSystem(anon=True)\n",
    "gecko_files = fs.ls(\"ncar-aiml-data-commons/gecko/\")[1:]\n",
    "test, train, val = map(fetch_data, gecko_files)"
   ]
  },
  {
   "cell_type": "code",
   "execution_count": 4,
   "metadata": {},
   "outputs": [],
   "source": [
    "input_vars, output_vars = train.columns, train.columns[[0,1,2,3,-1]]\n",
    "train_in, train_out = prepare_data(train, input_vars, output_vars)\n",
    "val_in, val_out = prepare_data(val, input_vars, output_vars)\n",
    "\n",
    "input_scaler = MinMaxScaler()\n",
    "output_scaler = MinMaxScaler()\n",
    "\n",
    "scaled_train_in = input_scaler.fit_transform(train_in.iloc[:,1:-1])\n",
    "scaled_train_out = output_scaler.fit_transform(train_out.iloc[:,1:-1])\n",
    "scaled_val_in = input_scaler.transform(val_in.iloc[:,1:-1])\n",
    "scaled_val_out = output_scaler.transform(val_out.iloc[:,1:-1])"
   ]
  },
  {
   "cell_type": "code",
   "execution_count": 5,
   "metadata": {},
   "outputs": [
    {
     "data": {
      "text/plain": [
       "((2016000, 11), (288000, 11), (288000, 11), (2015999, 11), (2015999, 5))"
      ]
     },
     "execution_count": 5,
     "metadata": {},
     "output_type": "execute_result"
    }
   ],
   "source": [
    "train.shape, test.shape, val.shape, train_in.shape, train_out.shape"
   ]
  },
  {
   "cell_type": "code",
   "execution_count": 6,
   "metadata": {},
   "outputs": [
    {
     "data": {
      "text/html": [
       "<div>\n",
       "<style scoped>\n",
       "    .dataframe tbody tr th:only-of-type {\n",
       "        vertical-align: middle;\n",
       "    }\n",
       "\n",
       "    .dataframe tbody tr th {\n",
       "        vertical-align: top;\n",
       "    }\n",
       "\n",
       "    .dataframe thead th {\n",
       "        text-align: right;\n",
       "    }\n",
       "</style>\n",
       "<table border=\"1\" class=\"dataframe\">\n",
       "  <thead>\n",
       "    <tr style=\"text-align: right;\">\n",
       "      <th></th>\n",
       "      <th>Time [s]</th>\n",
       "      <th>Precursor [ug/m3]</th>\n",
       "      <th>Gas [ug/m3]</th>\n",
       "      <th>Aerosol [ug_m3]</th>\n",
       "      <th>temperature (K)</th>\n",
       "      <th>solar zenith angle (degree)</th>\n",
       "      <th>pre-existing aerosols (ug/m3)</th>\n",
       "      <th>o3 (ppb)</th>\n",
       "      <th>nox (ppb)</th>\n",
       "      <th>oh (10^6 molec/cm3)</th>\n",
       "      <th>id</th>\n",
       "    </tr>\n",
       "    <tr>\n",
       "      <th>indx</th>\n",
       "      <th></th>\n",
       "      <th></th>\n",
       "      <th></th>\n",
       "      <th></th>\n",
       "      <th></th>\n",
       "      <th></th>\n",
       "      <th></th>\n",
       "      <th></th>\n",
       "      <th></th>\n",
       "      <th></th>\n",
       "      <th></th>\n",
       "    </tr>\n",
       "  </thead>\n",
       "  <tbody>\n",
       "    <tr>\n",
       "      <th>0</th>\n",
       "      <td>1.000000</td>\n",
       "      <td>0.069675</td>\n",
       "      <td>0.000000</td>\n",
       "      <td>0.000000</td>\n",
       "      <td>264.135037</td>\n",
       "      <td>78.052738</td>\n",
       "      <td>0.022782</td>\n",
       "      <td>38.768707</td>\n",
       "      <td>0.206029</td>\n",
       "      <td>7.360145</td>\n",
       "      <td>1666</td>\n",
       "    </tr>\n",
       "    <tr>\n",
       "      <th>1</th>\n",
       "      <td>301.207794</td>\n",
       "      <td>0.067673</td>\n",
       "      <td>0.002783</td>\n",
       "      <td>0.000001</td>\n",
       "      <td>264.135037</td>\n",
       "      <td>78.052738</td>\n",
       "      <td>0.022782</td>\n",
       "      <td>38.768707</td>\n",
       "      <td>0.206029</td>\n",
       "      <td>7.360145</td>\n",
       "      <td>1666</td>\n",
       "    </tr>\n",
       "    <tr>\n",
       "      <th>2</th>\n",
       "      <td>601.415588</td>\n",
       "      <td>0.065728</td>\n",
       "      <td>0.005749</td>\n",
       "      <td>0.000004</td>\n",
       "      <td>264.135037</td>\n",
       "      <td>78.052738</td>\n",
       "      <td>0.022782</td>\n",
       "      <td>38.768707</td>\n",
       "      <td>0.206029</td>\n",
       "      <td>7.360145</td>\n",
       "      <td>1666</td>\n",
       "    </tr>\n",
       "    <tr>\n",
       "      <th>3</th>\n",
       "      <td>901.623352</td>\n",
       "      <td>0.063838</td>\n",
       "      <td>0.008627</td>\n",
       "      <td>0.000008</td>\n",
       "      <td>264.135037</td>\n",
       "      <td>78.052738</td>\n",
       "      <td>0.022782</td>\n",
       "      <td>38.768707</td>\n",
       "      <td>0.206029</td>\n",
       "      <td>7.360145</td>\n",
       "      <td>1666</td>\n",
       "    </tr>\n",
       "    <tr>\n",
       "      <th>4</th>\n",
       "      <td>1201.831177</td>\n",
       "      <td>0.062003</td>\n",
       "      <td>0.011420</td>\n",
       "      <td>0.000013</td>\n",
       "      <td>264.135037</td>\n",
       "      <td>78.052738</td>\n",
       "      <td>0.022782</td>\n",
       "      <td>38.768707</td>\n",
       "      <td>0.206029</td>\n",
       "      <td>7.360145</td>\n",
       "      <td>1666</td>\n",
       "    </tr>\n",
       "  </tbody>\n",
       "</table>\n",
       "</div>"
      ],
      "text/plain": [
       "         Time [s]  Precursor [ug/m3]  Gas [ug/m3]  Aerosol [ug_m3]  \\\n",
       "indx                                                                 \n",
       "0        1.000000           0.069675     0.000000         0.000000   \n",
       "1      301.207794           0.067673     0.002783         0.000001   \n",
       "2      601.415588           0.065728     0.005749         0.000004   \n",
       "3      901.623352           0.063838     0.008627         0.000008   \n",
       "4     1201.831177           0.062003     0.011420         0.000013   \n",
       "\n",
       "      temperature (K)  solar zenith angle (degree)  \\\n",
       "indx                                                 \n",
       "0          264.135037                    78.052738   \n",
       "1          264.135037                    78.052738   \n",
       "2          264.135037                    78.052738   \n",
       "3          264.135037                    78.052738   \n",
       "4          264.135037                    78.052738   \n",
       "\n",
       "      pre-existing aerosols (ug/m3)   o3 (ppb)  nox (ppb)  \\\n",
       "indx                                                        \n",
       "0                          0.022782  38.768707   0.206029   \n",
       "1                          0.022782  38.768707   0.206029   \n",
       "2                          0.022782  38.768707   0.206029   \n",
       "3                          0.022782  38.768707   0.206029   \n",
       "4                          0.022782  38.768707   0.206029   \n",
       "\n",
       "      oh (10^6 molec/cm3)    id  \n",
       "indx                             \n",
       "0                7.360145  1666  \n",
       "1                7.360145  1666  \n",
       "2                7.360145  1666  \n",
       "3                7.360145  1666  \n",
       "4                7.360145  1666  "
      ]
     },
     "execution_count": 6,
     "metadata": {},
     "output_type": "execute_result"
    }
   ],
   "source": [
    "train.head()"
   ]
  },
  {
   "cell_type": "code",
   "execution_count": 7,
   "metadata": {},
   "outputs": [
    {
     "data": {
      "text/plain": [
       "((2015999, 9), (2015999, 3), (287999, 9), (287999, 3))"
      ]
     },
     "execution_count": 7,
     "metadata": {},
     "output_type": "execute_result"
    }
   ],
   "source": [
    "scaled_train_in.shape, scaled_train_out.shape, scaled_val_in.shape, scaled_val_out.shape,"
   ]
  },
  {
   "cell_type": "code",
   "execution_count": 18,
   "metadata": {},
   "outputs": [
    {
     "name": "stdout",
     "output_type": "stream",
     "text": [
      "Train on 2015999 samples, validate on 287999 samples\n",
      "Epoch 1/10\n",
      "2015999/2015999 [==============================] - 13s 6us/sample - loss: 0.0019 - val_loss: 2.9707e-04\n",
      "Epoch 2/10\n",
      "2015999/2015999 [==============================] - 13s 6us/sample - loss: 2.9347e-04 - val_loss: 2.8317e-04\n",
      "Epoch 3/10\n",
      "2015999/2015999 [==============================] - 13s 6us/sample - loss: 2.8689e-04 - val_loss: 2.8189e-04\n",
      "Epoch 4/10\n",
      "2015999/2015999 [==============================] - 12s 6us/sample - loss: 2.8495e-04 - val_loss: 2.8584e-04\n",
      "Epoch 5/10\n",
      "2015999/2015999 [==============================] - 13s 6us/sample - loss: 2.8396e-04 - val_loss: 2.8278e-04\n",
      "Epoch 6/10\n",
      "2015999/2015999 [==============================] - 12s 6us/sample - loss: 2.8336e-04 - val_loss: 2.7819e-04\n",
      "Epoch 7/10\n",
      "2015999/2015999 [==============================] - 13s 6us/sample - loss: 2.8302e-04 - val_loss: 2.7537e-04\n",
      "Epoch 8/10\n",
      "2015999/2015999 [==============================] - 13s 6us/sample - loss: 2.8288e-04 - val_loss: 2.7543e-04\n",
      "Epoch 9/10\n",
      "2015999/2015999 [==============================] - 12s 6us/sample - loss: 2.8252e-04 - val_loss: 2.7974e-04\n",
      "Epoch 10/10\n",
      "2015999/2015999 [==============================] - 12s 6us/sample - loss: 2.8245e-04 - val_loss: 2.7526e-04\n",
      "CPU times: user 3min 33s, sys: 27.1 s, total: 4min\n",
      "Wall time: 2min 5s\n"
     ]
    }
   ],
   "source": [
    "%%time\n",
    "mod = dense_neural_net()\n",
    "history = mod.fit(scaled_train_in, scaled_train_out, validation_data=(scaled_val_in, scaled_val_out), \n",
    "                  batch_size=256, epochs=10, verbose=1)"
   ]
  },
  {
   "cell_type": "code",
   "execution_count": 19,
   "metadata": {},
   "outputs": [
    {
     "name": "stdout",
     "output_type": "stream",
     "text": [
      "CPU times: user 3min 15s, sys: 11.5 s, total: 3min 27s\n",
      "Wall time: 3min 5s\n"
     ]
    }
   ],
   "source": [
    "%%time\n",
    "pred_out, true_out = run_emulator_ensemble(val_in, mod, 5, input_vars, input_scaler, output_scaler)"
   ]
  },
  {
   "cell_type": "code",
   "execution_count": 20,
   "metadata": {},
   "outputs": [
    {
     "name": "stdout",
     "output_type": "stream",
     "text": [
      "RMSE: Precursor: 0.015, Gas: 0.021, Aerosols: 0.042\n",
      "R2: Precursor: 0.348, Gas: 0.462, Aerosols: 0.273\n",
      "Hellenger Distance: Precursor: 0.418, Gas: 0.259, Aerosols: 0.621\n"
     ]
    }
   ],
   "source": [
    "evaluate_box_mod(true_out, pred_out)"
   ]
  },
  {
   "cell_type": "code",
   "execution_count": 21,
   "metadata": {},
   "outputs": [
    {
     "data": {
      "text/plain": [
       "<matplotlib.axes._subplots.AxesSubplot at 0x2b15d2aa9650>"
      ]
     },
     "execution_count": 21,
     "metadata": {},
     "output_type": "execute_result"
    },
    {
     "data": {
      "image/png": "[encoded data removed]",
      "text/plain": [
       "<Figure size 432x288 with 1 Axes>"
      ]
     },
     "metadata": {
      "needs_background": "light"
     },
     "output_type": "display_data"
    },
    {
     "data": {
      "image/png": "[encoded data removed]",
      "text/plain": [
       "<Figure size 432x288 with 1 Axes>"
      ]
     },
     "metadata": {
      "needs_background": "light"
     },
     "output_type": "display_data"
    }
   ],
   "source": [
    "true_out.iloc[:,0:3].plot()\n",
    "pred_out.iloc[:,0:3].plot()"
   ]
  }
 ],
 "metadata": {
  "kernelspec": {
   "display_name": "Python 3",
   "language": "python",
   "name": "python3"
  },
  "language_info": {
   "codemirror_mode": {
    "name": "ipython",
    "version": 3
   },
   "file_extension": ".py",
   "mimetype": "text/x-python",
   "name": "python",
   "nbconvert_exporter": "python",
   "pygments_lexer": "ipython3",
   "version": "3.7.5"
  }
 },
 "nbformat": 4,
 "nbformat_minor": 4
}

